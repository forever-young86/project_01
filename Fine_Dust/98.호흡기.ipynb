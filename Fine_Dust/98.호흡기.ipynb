{
 "cells": [
  {
   "cell_type": "code",
   "execution_count": 1,
   "metadata": {},
   "outputs": [],
   "source": [
    "import numpy as np\n",
    "import pandas as pd\n",
    "import matplotlib.pyplot as plt\n",
    "plt.rcParams['font.family'] = 'Malgun Gothic'\n",
    "plt.rcParams['axes.unicode_minus'] = False "
   ]
  },
  {
   "cell_type": "code",
   "execution_count": 2,
   "metadata": {},
   "outputs": [
    {
     "data": {
      "text/html": [
       "<div>\n",
       "<style scoped>\n",
       "    .dataframe tbody tr th:only-of-type {\n",
       "        vertical-align: middle;\n",
       "    }\n",
       "\n",
       "    .dataframe tbody tr th {\n",
       "        vertical-align: top;\n",
       "    }\n",
       "\n",
       "    .dataframe thead th {\n",
       "        text-align: right;\n",
       "    }\n",
       "</style>\n",
       "<table border=\"1\" class=\"dataframe\">\n",
       "  <thead>\n",
       "    <tr style=\"text-align: right;\">\n",
       "      <th></th>\n",
       "      <th>Unnamed: 0</th>\n",
       "      <th>A-B</th>\n",
       "      <th>A-C</th>\n",
       "      <th>A-D</th>\n",
       "      <th>B-C</th>\n",
       "      <th>B-D</th>\n",
       "      <th>C-D</th>\n",
       "    </tr>\n",
       "  </thead>\n",
       "  <tbody>\n",
       "    <tr>\n",
       "      <th>0</th>\n",
       "      <td>상관계수</td>\n",
       "      <td>-0.004986265</td>\n",
       "      <td>0.081263212</td>\n",
       "      <td>-0.048551727</td>\n",
       "      <td>-0.617647859</td>\n",
       "      <td>0.796130869</td>\n",
       "      <td>-0.477608906</td>\n",
       "    </tr>\n",
       "    <tr>\n",
       "      <th>1</th>\n",
       "      <td>NaN</td>\n",
       "      <td>NaN</td>\n",
       "      <td>NaN</td>\n",
       "      <td>NaN</td>\n",
       "      <td>NaN</td>\n",
       "      <td>NaN</td>\n",
       "      <td>NaN</td>\n",
       "    </tr>\n",
       "    <tr>\n",
       "      <th>2</th>\n",
       "      <td>NaN</td>\n",
       "      <td>NaN</td>\n",
       "      <td>NaN</td>\n",
       "      <td>NaN</td>\n",
       "      <td>NaN</td>\n",
       "      <td>NaN</td>\n",
       "      <td>NaN</td>\n",
       "    </tr>\n",
       "    <tr>\n",
       "      <th>3</th>\n",
       "      <td>NaN</td>\n",
       "      <td>NaN</td>\n",
       "      <td>NaN</td>\n",
       "      <td>A</td>\n",
       "      <td>B</td>\n",
       "      <td>C</td>\n",
       "      <td>D</td>\n",
       "    </tr>\n",
       "    <tr>\n",
       "      <th>4</th>\n",
       "      <td>지역코드</td>\n",
       "      <td>지역1</td>\n",
       "      <td>지역2</td>\n",
       "      <td>미세먼지 위험도</td>\n",
       "      <td>질병 위험도</td>\n",
       "      <td>미세먼지-질병 상관</td>\n",
       "      <td>평균연령(10년)</td>\n",
       "    </tr>\n",
       "  </tbody>\n",
       "</table>\n",
       "</div>"
      ],
      "text/plain": [
       "  Unnamed: 0           A-B          A-C           A-D           B-C  \\\n",
       "0       상관계수  -0.004986265  0.081263212  -0.048551727  -0.617647859   \n",
       "1        NaN           NaN          NaN           NaN           NaN   \n",
       "2        NaN           NaN          NaN           NaN           NaN   \n",
       "3        NaN           NaN          NaN             A             B   \n",
       "4       지역코드           지역1          지역2      미세먼지 위험도        질병 위험도   \n",
       "\n",
       "           B-D           C-D  \n",
       "0  0.796130869  -0.477608906  \n",
       "1          NaN           NaN  \n",
       "2          NaN           NaN  \n",
       "3            C             D  \n",
       "4   미세먼지-질병 상관     평균연령(10년)  "
      ]
     },
     "execution_count": 2,
     "metadata": {},
     "output_type": "execute_result"
    }
   ],
   "source": [
    "data = '../My_Mountain/static/data/각 수치의 상관계수 자료.csv'\n",
    "df = pd.read_csv(data)\n",
    "df.head()"
   ]
  },
  {
   "cell_type": "code",
   "execution_count": null,
   "metadata": {},
   "outputs": [],
   "source": []
  }
 ],
 "metadata": {
  "kernelspec": {
   "display_name": "base",
   "language": "python",
   "name": "python3"
  },
  "language_info": {
   "codemirror_mode": {
    "name": "ipython",
    "version": 3
   },
   "file_extension": ".py",
   "mimetype": "text/x-python",
   "name": "python",
   "nbconvert_exporter": "python",
   "pygments_lexer": "ipython3",
   "version": "3.11.4"
  }
 },
 "nbformat": 4,
 "nbformat_minor": 2
}
